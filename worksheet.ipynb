{
 "cells": [
  {
   "cell_type": "code",
   "execution_count": 1,
   "id": "591468ff-64fd-4d79-bd6c-30036c160126",
   "metadata": {},
   "outputs": [],
   "source": [
    "import os\n",
    "os.environ['CMD_LINE'] = \"-v -l log/lab.log\""
   ]
  },
  {
   "cell_type": "code",
   "execution_count": 2,
   "id": "ceddac30-234e-45ee-9e36-51d0dea64c16",
   "metadata": {},
   "outputs": [
    {
     "name": "stdout",
     "output_type": "stream",
     "text": [
      "Initializing hw\n",
      "ARGS.debug=False\n",
      "ARGS.verbose=True\n",
      "Checking for log file...\n",
      "ARGS.log='log/lab.log'\n"
     ]
    }
   ],
   "source": [
    "from hw import *"
   ]
  },
  {
   "cell_type": "code",
   "execution_count": null,
   "id": "74054a93-4b63-408a-8c22-0a9b8963ee50",
   "metadata": {
    "editable": true,
    "slideshow": {
     "slide_type": ""
    },
    "tags": []
   },
   "outputs": [],
   "source": [
    "PROGRAM"
   ]
  },
  {
   "cell_type": "code",
   "execution_count": null,
   "id": "4ad94d05-f62d-4c81-8bf6-5efdffa1b1ce",
   "metadata": {
    "editable": true,
    "slideshow": {
     "slide_type": ""
    },
    "tags": []
   },
   "outputs": [],
   "source": [
    "import sys\n",
    "sys.argv"
   ]
  },
  {
   "cell_type": "code",
   "execution_count": null,
   "id": "7141bd6f-d4b5-46d5-bfcf-72ae93965618",
   "metadata": {},
   "outputs": [],
   "source": [
    "__debug__"
   ]
  },
  {
   "cell_type": "code",
   "execution_count": null,
   "id": "0fded89d-6657-47d2-a7ce-e41a0eaa2a04",
   "metadata": {},
   "outputs": [],
   "source": []
  }
 ],
 "metadata": {
  "kernelspec": {
   "display_name": "Python 3.13",
   "language": "python",
   "name": "python-3.13"
  },
  "language_info": {
   "codemirror_mode": {
    "name": "ipython",
    "version": 3
   },
   "file_extension": ".py",
   "mimetype": "text/x-python",
   "name": "python",
   "nbconvert_exporter": "python",
   "pygments_lexer": "ipython3",
   "version": "3.13.2"
  }
 },
 "nbformat": 4,
 "nbformat_minor": 5
}
